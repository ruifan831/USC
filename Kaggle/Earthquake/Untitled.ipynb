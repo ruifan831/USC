{
 "cells": [
  {
   "cell_type": "code",
   "execution_count": 1,
   "metadata": {},
   "outputs": [],
   "source": [
    "from sklearn.model_selection import GridSearchCV\n",
    "import pandas as pd\n",
    "import numpy as np\n",
    "import os\n",
    "from sklearn.metrics import mean_squared_error\n",
    "from sklearn.decomposition import PCA"
   ]
  },
  {
   "cell_type": "code",
   "execution_count": 2,
   "metadata": {},
   "outputs": [],
   "source": [
    "from sklearn.model_selection import train_test_split"
   ]
  },
  {
   "cell_type": "code",
   "execution_count": 3,
   "metadata": {},
   "outputs": [],
   "source": [
    "import matplotlib.pyplot as plt"
   ]
  },
  {
   "cell_type": "code",
   "execution_count": 4,
   "metadata": {},
   "outputs": [],
   "source": [
    "from tensorflow.keras.models import Sequential\n",
    "from tensorflow.keras.layers import Dense,LSTM,CuDNNLSTM,BatchNormalization,Dropout\n",
    "from tensorflow.keras.optimizers import Adam,Adadelta\n",
    "import xgboost"
   ]
  },
  {
   "cell_type": "code",
   "execution_count": 5,
   "metadata": {},
   "outputs": [],
   "source": [
    "def generate_features(X):\n",
    "    strain=[]\n",
    "    strain.append(X.mean())\n",
    "    strain.append(X.std())\n",
    "    strain.append(X.min())\n",
    "    strain.append(X.kurtosis())\n",
    "    strain.append(X.skew())\n",
    "    strain.append(np.quantile(X,0.01))\n",
    "    strain.append(np.quantile(X,0.05))\n",
    "    strain.append(np.quantile(X,0.95))\n",
    "    strain.append(np.quantile(X,0.99))\n",
    "    strain.append(np.abs(X).max())\n",
    "    strain.append(np.abs(X).mean())\n",
    "    strain.append(np.abs(X).std())\n",
    "    return pd.Series(strain)\n"
   ]
  },
  {
   "cell_type": "code",
   "execution_count": null,
   "metadata": {},
   "outputs": [],
   "source": [
    "train = pd.read_csv('train.csv',chunksize=150000,dtype={'acoustic_data':np.int16,'time_to_failure':np.float64})\n",
    "X_train_1 = pd.DataFrame()\n",
    "y_train = pd.Series()\n",
    "X_train_2 = pd.DataFrame()\n",
    "\n",
    "for df in train:\n",
    "    X_train_2 = X_train_2.append(pd.Series(df['acoustic_data'].values),ignore_index=True)\n",
    "    y_train = y_train.append(pd.Series(df['time_to_failure'].values[-1]))\n",
    "    ch = generate_features(df['acoustic_data'])\n",
    "    X_train_1 = X_train_1.append(ch, ignore_index=True)\n",
    "X_train_2=X_train_2.drop(4194,0)\n",
    "A=y_train.to_frame('labels')\n",
    "A.reset_index(drop=True,inplace=True)\n",
    "A.drop(4194,0,inplace=True)\n",
    "A.to_csv('labels.csv')\n",
    "X_train_1.drop(4194,0,inplace=True)\n",
    "X_train_1.to_csv('Statistic_for_each_series.csv')\n",
    "X_train_2.to_csv('Serialized_data_01.csv',)\n",
    "y_train_1=A.copy()"
   ]
  },
  {
   "cell_type": "code",
   "execution_count": null,
   "metadata": {},
   "outputs": [],
   "source": [
    "X_train_1=pd.read_csv('Statistic_for_each_series.csv')\n",
    "X_train_2=pd.read_csv('Serialized_data_01.csv')"
   ]
  },
  {
   "cell_type": "code",
   "execution_count": null,
   "metadata": {},
   "outputs": [],
   "source": [
    "y_train_1=pd.read_csv('labels.csv')"
   ]
  },
  {
   "cell_type": "code",
   "execution_count": null,
   "metadata": {},
   "outputs": [],
   "source": [
    "X_test = pd.DataFrame()\n",
    "for i in os.listdir('test'):\n",
    "    test=pd.read_csv(\"test/\"+i)\n",
    "    ch = generate_features(test['acoustic_data'])\n",
    "    X_test = X_test.append(ch, ignore_index=True)"
   ]
  },
  {
   "cell_type": "code",
   "execution_count": null,
   "metadata": {},
   "outputs": [],
   "source": [
    "pca = PCA(n_components=2000)\n",
    "pca.fit(X_train_2)"
   ]
  },
  {
   "cell_type": "code",
   "execution_count": null,
   "metadata": {},
   "outputs": [],
   "source": [
    "new_data=pca.transform(X_train_2)"
   ]
  },
  {
   "cell_type": "markdown",
   "metadata": {},
   "source": [
    "# XGBRegressor"
   ]
  },
  {
   "cell_type": "code",
   "execution_count": null,
   "metadata": {},
   "outputs": [],
   "source": [
    "xg=xgboost.XGBRegressor(n_estimators=100,max_depth=3,min_child_weight=4)\n",
    "parameters = {'max_depth': [3,4,5,6],'min_child_weight':[1, 2, 3, 4, 5, 6]}\n",
    "clf = GridSearchCV(xg, parameters, cv=5,verbose=1,n_jobs=3)\n",
    "clf.fit(X_train_1,y_train_1)"
   ]
  },
  {
   "cell_type": "code",
   "execution_count": null,
   "metadata": {},
   "outputs": [],
   "source": [
    "xg=xgboost.XGBRegressor(n_estimators=100,max_depth=3,min_child_weight=4)\n",
    "xg.fit(X_train_1,y_train_1)"
   ]
  },
  {
   "cell_type": "code",
   "execution_count": null,
   "metadata": {},
   "outputs": [],
   "source": [
    "xg.score(X_train_1,y_train_1)"
   ]
  },
  {
   "cell_type": "code",
   "execution_count": null,
   "metadata": {},
   "outputs": [],
   "source": [
    "mean_squared_error(xg.predict(X_train_1),y_train_1)"
   ]
  },
  {
   "cell_type": "code",
   "execution_count": null,
   "metadata": {},
   "outputs": [],
   "source": [
    "pred=xg.predict(X_test)"
   ]
  },
  {
   "cell_type": "code",
   "execution_count": null,
   "metadata": {},
   "outputs": [],
   "source": [
    "sub=pd.read_csv('sample_submission.csv')\n",
    "sub['seg_id']=[i.split('.')[0] for i in os.listdir('test')]\n",
    "sub.time_to_failure=pred\n",
    "sub.to_csv('submission.csv',index=False)"
   ]
  },
  {
   "cell_type": "markdown",
   "metadata": {},
   "source": [
    "# XGB Regressor on preprocessed serizlied data"
   ]
  },
  {
   "cell_type": "code",
   "execution_count": null,
   "metadata": {},
   "outputs": [],
   "source": [
    "def serialized_mean(data):\n",
    "    mean_series=data.values.reshape(-1,30).mean(1)\n",
    "    return mean_series"
   ]
  },
  {
   "cell_type": "code",
   "execution_count": null,
   "metadata": {},
   "outputs": [],
   "source": [
    "train_data=[]\n",
    "for i in X_train_2.values.reshape(4194,-1,30):\n",
    "    temp = i.reshape(-1,30).mean(1)\n",
    "    train_data.append(temp)"
   ]
  },
  {
   "cell_type": "code",
   "execution_count": null,
   "metadata": {},
   "outputs": [],
   "source": [
    "train_data=np.asarray(train_data)"
   ]
  },
  {
   "cell_type": "code",
   "execution_count": null,
   "metadata": {},
   "outputs": [],
   "source": [
    "xg_2=xgboost.XGBRegressor(n_estimators=400,max_depth=3,min_child_weight=5)\n",
    "parameters = {'reg_alpha': [0.05, 0.1, 1, 2, 3], 'reg_lambda': [0.05, 0.1, 1, 2, 3]}\n",
    "clf = GridSearchCV(xg_2, parameters, cv=5,verbose=1,n_jobs=4)\n",
    "clf.fit(train_data,y_train_1)"
   ]
  },
  {
   "cell_type": "code",
   "execution_count": null,
   "metadata": {},
   "outputs": [],
   "source": [
    "clf.best_params_"
   ]
  },
  {
   "cell_type": "code",
   "execution_count": null,
   "metadata": {},
   "outputs": [],
   "source": [
    "xg_2=xgboost.XGBRegressor(n_estimators=400,max_depth=3,min_child_weight=5,reg_alpha=1,reg_lambda=3)\n",
    "xg_2.fit(train_data,y_train_1)"
   ]
  },
  {
   "cell_type": "code",
   "execution_count": null,
   "metadata": {},
   "outputs": [],
   "source": [
    "xg_2.score(train_data,y_train_1)"
   ]
  },
  {
   "cell_type": "code",
   "execution_count": null,
   "metadata": {},
   "outputs": [],
   "source": [
    "xg_2.score(X_preprocess,y_train_1)"
   ]
  },
  {
   "cell_type": "code",
   "execution_count": null,
   "metadata": {},
   "outputs": [],
   "source": [
    "mean_squared_error(train_data,y_train_1)"
   ]
  },
  {
   "cell_type": "code",
   "execution_count": null,
   "metadata": {},
   "outputs": [],
   "source": [
    "mean_squared_error(xg_2.predict(X_preprocess),y_train_1)"
   ]
  },
  {
   "cell_type": "code",
   "execution_count": null,
   "metadata": {},
   "outputs": [],
   "source": [
    "X_test_2={}\n",
    "for i in os.listdir('test'):\n",
    "    key=i.split('.')[0]\n",
    "    test=pd.read_csv(\"test/\"+i)\n",
    "    ch = serialized_mean(test)\n",
    "    X_test_2[key]=ch"
   ]
  },
  {
   "cell_type": "code",
   "execution_count": null,
   "metadata": {},
   "outputs": [],
   "source": [
    "new_df=pd.DataFrame.from_dict(X_test_2,orient='index')"
   ]
  },
  {
   "cell_type": "code",
   "execution_count": null,
   "metadata": {},
   "outputs": [],
   "source": [
    "new_df['time_to_failure']=xg_2.predict(new_df.values)"
   ]
  },
  {
   "cell_type": "code",
   "execution_count": null,
   "metadata": {},
   "outputs": [],
   "source": [
    "final_df=new_df[['time_to_failure']]"
   ]
  },
  {
   "cell_type": "code",
   "execution_count": null,
   "metadata": {},
   "outputs": [],
   "source": [
    "final_df.index.name='seg_id'"
   ]
  },
  {
   "cell_type": "code",
   "execution_count": null,
   "metadata": {},
   "outputs": [],
   "source": [
    "final_df.to_csv('submission_5.csv')"
   ]
  },
  {
   "cell_type": "code",
   "execution_count": null,
   "metadata": {},
   "outputs": [],
   "source": [
    "temp_df=pd.read_csv('submission_4.csv')"
   ]
  },
  {
   "cell_type": "code",
   "execution_count": null,
   "metadata": {},
   "outputs": [],
   "source": [
    "a=temp_df.time_to_failure.values\n",
    "b=final_df.time_to_failure.values"
   ]
  },
  {
   "cell_type": "code",
   "execution_count": null,
   "metadata": {},
   "outputs": [],
   "source": [
    "test_pre=xg_2.predict(pd.DataFrame(X_preprocess_test))"
   ]
  },
  {
   "cell_type": "code",
   "execution_count": null,
   "metadata": {},
   "outputs": [],
   "source": [
    "sub=pd.read_csv('sample_submission.csv')\n",
    "sub['seg_id']=[i.split('.')[0] for i in os.listdir('test')]\n",
    "sub.time_to_failure=test_pre\n",
    "sub.to_csv('submission_3.csv',index=False)"
   ]
  },
  {
   "cell_type": "markdown",
   "metadata": {},
   "source": [
    "# RandomForestry Regressor"
   ]
  },
  {
   "cell_type": "code",
   "execution_count": null,
   "metadata": {},
   "outputs": [],
   "source": [
    "from sklearn.ensemble import RandomForestRegressor"
   ]
  },
  {
   "cell_type": "code",
   "execution_count": null,
   "metadata": {},
   "outputs": [],
   "source": [
    "regr = RandomForestRegressor(random_state=42)\n",
    "parameters = {'max_depth': [2,3,4], 'n_estimators': [500,600]}\n",
    "clf = GridSearchCV(regr, parameters, cv=5,verbose=1,n_jobs=4)\n",
    "clf.fit(X_train_1,y_train_1)"
   ]
  },
  {
   "cell_type": "code",
   "execution_count": null,
   "metadata": {},
   "outputs": [],
   "source": [
    "regr = RandomForestRegressor(random_state=42,max_depth= 2,n_estimators=500)\n",
    "regr.fit(X_train_1,y_train_1.values.reshape(-1))"
   ]
  },
  {
   "cell_type": "code",
   "execution_count": null,
   "metadata": {},
   "outputs": [],
   "source": [
    "rf_pre_train_1=regr.predict(X_train_1)"
   ]
  },
  {
   "cell_type": "markdown",
   "metadata": {},
   "source": [
    "# RandomForestry for Serialized"
   ]
  },
  {
   "cell_type": "code",
   "execution_count": null,
   "metadata": {},
   "outputs": [],
   "source": [
    "regr = RandomForestRegressor(random_state=42,max_features='sqrt')\n",
    "parameters = {'max_depth': [2,3,4], 'n_estimators': [500,600]}\n",
    "clf = GridSearchCV(regr, parameters, cv=5,verbose=1,n_jobs=4)\n",
    "clf.fit(train_data,y_train_1)"
   ]
  },
  {
   "cell_type": "markdown",
   "metadata": {},
   "source": [
    "# LSTM Model"
   ]
  },
  {
   "cell_type": "code",
   "execution_count": null,
   "metadata": {},
   "outputs": [],
   "source": []
  },
  {
   "cell_type": "code",
   "execution_count": null,
   "metadata": {},
   "outputs": [],
   "source": [
    "model=Sequential()\n",
    "model.add(Dense(64,input_dim=(X_train_1.shape[1]),activation='tanh'))\n",
    "model.add(Dense(128,activation='tanh'))\n",
    "model.add(Dense(128,activation='tanh'))\n",
    "model.add(Dense(64,activation='relu'))\n",
    "model.add(Dense(1))\n",
    "model.compile(loss=\"mse\", optimizer=Adam(lr=1e-3,decay=1e-6))\n"
   ]
  },
  {
   "cell_type": "code",
   "execution_count": null,
   "metadata": {},
   "outputs": [],
   "source": [
    "hist=model.fit(X_train_1,y_train_1,epochs=30,batch_size=50)"
   ]
  },
  {
   "cell_type": "code",
   "execution_count": null,
   "metadata": {},
   "outputs": [],
   "source": [
    "prediction=model.predict(X_train_1)"
   ]
  },
  {
   "cell_type": "code",
   "execution_count": null,
   "metadata": {},
   "outputs": [],
   "source": [
    "mean_squared_error(prediction,y_train_1)"
   ]
  },
  {
   "cell_type": "code",
   "execution_count": null,
   "metadata": {},
   "outputs": [],
   "source": []
  }
 ],
 "metadata": {
  "kernelspec": {
   "display_name": "Python 3",
   "language": "python",
   "name": "python3"
  },
  "language_info": {
   "codemirror_mode": {
    "name": "ipython",
    "version": 3
   },
   "file_extension": ".py",
   "mimetype": "text/x-python",
   "name": "python",
   "nbconvert_exporter": "python",
   "pygments_lexer": "ipython3",
   "version": "3.7.3"
  }
 },
 "nbformat": 4,
 "nbformat_minor": 2
}
