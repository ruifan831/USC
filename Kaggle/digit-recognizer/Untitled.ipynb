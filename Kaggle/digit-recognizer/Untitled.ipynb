{
 "cells": [
  {
   "cell_type": "code",
   "execution_count": 30,
   "metadata": {},
   "outputs": [],
   "source": [
    "import pandas as pd\n",
    "import numpy as np\n",
    "import tensorflow as tf\n",
    "from tensorflow.keras.models import Sequential\n",
    "from tensorflow.keras.layers import Dense,LSTM,CuDNNLSTM,MaxPooling2D,Conv2D,Flatten,Dropout,Activation\n",
    "from sklearn.model_selection import train_test_split\n",
    "from tensorflow.keras.callbacks import ModelCheckpoint,Callback"
   ]
  },
  {
   "cell_type": "code",
   "execution_count": 19,
   "metadata": {},
   "outputs": [],
   "source": [
    "df=pd.read_csv('train.csv')"
   ]
  },
  {
   "cell_type": "code",
   "execution_count": 20,
   "metadata": {},
   "outputs": [],
   "source": [
    "Y=df['label']\n",
    "X=df.drop('label',1)"
   ]
  },
  {
   "cell_type": "code",
   "execution_count": 21,
   "metadata": {},
   "outputs": [],
   "source": [
    "X=X.values.reshape(-1,28,28,1)"
   ]
  },
  {
   "cell_type": "code",
   "execution_count": 22,
   "metadata": {},
   "outputs": [
    {
     "data": {
      "text/plain": [
       "(42000, 28, 28, 1)"
      ]
     },
     "execution_count": 22,
     "metadata": {},
     "output_type": "execute_result"
    }
   ],
   "source": [
    "X.shape"
   ]
  },
  {
   "cell_type": "code",
   "execution_count": 23,
   "metadata": {},
   "outputs": [],
   "source": [
    "Y=tf.keras.utils.to_categorical(Y)"
   ]
  },
  {
   "cell_type": "code",
   "execution_count": 54,
   "metadata": {},
   "outputs": [
    {
     "name": "stdout",
     "output_type": "stream",
     "text": [
      "_________________________________________________________________\n",
      "Layer (type)                 Output Shape              Param #   \n",
      "=================================================================\n",
      "conv2d_13 (Conv2D)           (None, 28, 28, 64)        1664      \n",
      "_________________________________________________________________\n",
      "activation_5 (Activation)    (None, 28, 28, 64)        0         \n",
      "_________________________________________________________________\n",
      "max_pooling2d_12 (MaxPooling (None, 28, 28, 64)        0         \n",
      "_________________________________________________________________\n",
      "activation_6 (Activation)    (None, 28, 28, 64)        0         \n",
      "_________________________________________________________________\n",
      "conv2d_14 (Conv2D)           (None, 28, 28, 32)        51232     \n",
      "_________________________________________________________________\n",
      "activation_7 (Activation)    (None, 28, 28, 32)        0         \n",
      "_________________________________________________________________\n",
      "max_pooling2d_13 (MaxPooling (None, 28, 28, 32)        0         \n",
      "_________________________________________________________________\n",
      "flatten_4 (Flatten)          (None, 25088)             0         \n",
      "_________________________________________________________________\n",
      "dense_14 (Dense)             (None, 256)               6422784   \n",
      "_________________________________________________________________\n",
      "dense_15 (Dense)             (None, 128)               32896     \n",
      "_________________________________________________________________\n",
      "dense_16 (Dense)             (None, 64)                8256      \n",
      "_________________________________________________________________\n",
      "dense_17 (Dense)             (None, 10)                650       \n",
      "=================================================================\n",
      "Total params: 6,517,482\n",
      "Trainable params: 6,517,482\n",
      "Non-trainable params: 0\n",
      "_________________________________________________________________\n"
     ]
    }
   ],
   "source": [
    "model=Sequential()\n",
    "model.add(Conv2D(64,(5,5),strides=(1, 1),padding='same',input_shape = (28,28,1)))\n",
    "model.add(Activation('tanh'))\n",
    "model.add(MaxPooling2D(pool_size=(2, 2), strides=(1, 1), padding='same'))\n",
    "model.add(Activation('tanh'))\n",
    "model.add(Conv2D(32, kernel_size = (5,5), strides=(1, 1), padding='same'))\n",
    "model.add(Activation('tanh'))\n",
    "model.add(MaxPooling2D(pool_size=(2, 2), strides=(1, 1), padding='same'))\n",
    "model.add(Flatten())\n",
    "model.add(Dense(256,activation='relu'))\n",
    "model.add(Dense(128,activation='relu'))\n",
    "model.add(Dense(64,activation='relu'))\n",
    "\n",
    "model.add(Dense(10,activation='softmax'))\n",
    "model.compile(loss='categorical_crossentropy',optimizer='adam',metrics=['accuracy'])\n",
    "model.summary()"
   ]
  },
  {
   "cell_type": "code",
   "execution_count": 55,
   "metadata": {},
   "outputs": [
    {
     "name": "stdout",
     "output_type": "stream",
     "text": [
      "Epoch 1/30\n",
      "42000/42000 [==============================] - 4s 105us/sample - loss: 0.2058 - acc: 0.9374\n",
      "Epoch 2/30\n",
      "42000/42000 [==============================] - 4s 98us/sample - loss: 0.0614 - acc: 0.9815A: 0s - loss: 0.0594 - \n",
      "Epoch 3/30\n",
      "42000/42000 [==============================] - 4s 99us/sample - loss: 0.0410 - acc: 0.9870\n",
      "Epoch 4/30\n",
      "42000/42000 [==============================] - 4s 99us/sample - loss: 0.0417 - acc: 0.9870\n",
      "Epoch 5/30\n",
      "42000/42000 [==============================] - 4s 98us/sample - loss: 0.0303 - acc: 0.9905\n",
      "Epoch 6/30\n",
      "42000/42000 [==============================] - 4s 98us/sample - loss: 0.0274 - acc: 0.9919\n",
      "Epoch 7/30\n",
      "42000/42000 [==============================] - 4s 99us/sample - loss: 0.0286 - acc: 0.9918\n",
      "Epoch 8/30\n",
      "42000/42000 [==============================] - 4s 97us/sample - loss: 0.0208 - acc: 0.9935\n",
      "Epoch 9/30\n",
      "42000/42000 [==============================] - 4s 97us/sample - loss: 0.0167 - acc: 0.9952\n",
      "Epoch 10/30\n",
      "42000/42000 [==============================] - 4s 97us/sample - loss: 0.0227 - acc: 0.9936\n",
      "Epoch 11/30\n",
      "42000/42000 [==============================] - 4s 97us/sample - loss: 0.0244 - acc: 0.9932\n",
      "Epoch 12/30\n",
      "42000/42000 [==============================] - 4s 97us/sample - loss: 0.0139 - acc: 0.9957\n",
      "Epoch 13/30\n",
      "42000/42000 [==============================] - 4s 97us/sample - loss: 0.0180 - acc: 0.9951\n",
      "Epoch 14/30\n",
      "42000/42000 [==============================] - 4s 97us/sample - loss: 0.0188 - acc: 0.9946\n",
      "Epoch 15/30\n",
      "42000/42000 [==============================] - 4s 98us/sample - loss: 0.0088 - acc: 0.9975\n",
      "Epoch 16/30\n",
      "42000/42000 [==============================] - 4s 99us/sample - loss: 0.0084 - acc: 0.9976\n",
      "Epoch 17/30\n",
      "42000/42000 [==============================] - 4s 99us/sample - loss: 0.0155 - acc: 0.99542s -  - ETA: 0s - loss: 0.0162 - acc\n",
      "Epoch 18/30\n",
      "42000/42000 [==============================] - 4s 100us/sample - loss: 0.0176 - acc: 0.9954\n",
      "Epoch 19/30\n",
      "42000/42000 [==============================] - 4s 100us/sample - loss: 0.0168 - acc: 0.9953s - loss: 0.0098 - ac\n",
      "Epoch 20/30\n",
      "42000/42000 [==============================] - 4s 99us/sample - loss: 0.0123 - acc: 0.9965\n",
      "Epoch 21/30\n",
      "42000/42000 [==============================] - ETA: 0s - loss: 0.0110 - acc: 0.996 - 4s 100us/sample - loss: 0.0110 - acc: 0.9969\n",
      "Epoch 22/30\n",
      "42000/42000 [==============================] - 4s 99us/sample - loss: 0.0054 - acc: 0.9985\n",
      "Epoch 23/30\n",
      "42000/42000 [==============================] - 4s 100us/sample - loss: 0.0085 - acc: 0.9978s - loss: 0.0\n",
      "Epoch 24/30\n",
      "42000/42000 [==============================] - 4s 100us/sample - loss: 0.0082 - acc: 0.9977\n",
      "Epoch 25/30\n",
      "42000/42000 [==============================] - 4s 100us/sample - loss: 0.0183 - acc: 0.9957\n",
      "Epoch 26/30\n",
      "42000/42000 [==============================] - 4s 100us/sample - loss: 0.0186 - acc: 0.9953\n",
      "Epoch 27/30\n",
      "42000/42000 [==============================] - 4s 100us/sample - loss: 0.0103 - acc: 0.9975s - loss: 0.0\n",
      "Epoch 28/30\n",
      "42000/42000 [==============================] - 4s 100us/sample - loss: 0.0070 - acc: 0.9980\n",
      "Epoch 29/30\n",
      "42000/42000 [==============================] - 4s 100us/sample - loss: 0.0053 - acc: 0.9985\n",
      "Epoch 30/30\n",
      "42000/42000 [==============================] - 4s 100us/sample - loss: 0.0094 - acc: 0.9976\n"
     ]
    },
    {
     "data": {
      "text/plain": [
       "<tensorflow.python.keras.callbacks.History at 0x2161279ceb8>"
      ]
     },
     "execution_count": 55,
     "metadata": {},
     "output_type": "execute_result"
    }
   ],
   "source": [
    "model.fit(X,Y,epochs=30,batch_size=200)"
   ]
  },
  {
   "cell_type": "code",
   "execution_count": 56,
   "metadata": {},
   "outputs": [],
   "source": [
    "test=pd.read_csv('test.csv')"
   ]
  },
  {
   "cell_type": "code",
   "execution_count": 57,
   "metadata": {},
   "outputs": [],
   "source": [
    "test=test.values.reshape(-1,28,28,1)"
   ]
  },
  {
   "cell_type": "code",
   "execution_count": 58,
   "metadata": {},
   "outputs": [],
   "source": [
    "predict=model.predict_classes(test)"
   ]
  },
  {
   "cell_type": "code",
   "execution_count": 59,
   "metadata": {},
   "outputs": [],
   "source": [
    "id_num=np.arange(1,predict.shape[0]+1)"
   ]
  },
  {
   "cell_type": "code",
   "execution_count": 60,
   "metadata": {},
   "outputs": [
    {
     "data": {
      "text/plain": [
       "array([    1,     2,     3, ..., 27998, 27999, 28000])"
      ]
     },
     "execution_count": 60,
     "metadata": {},
     "output_type": "execute_result"
    }
   ],
   "source": [
    "id_num"
   ]
  },
  {
   "cell_type": "code",
   "execution_count": 61,
   "metadata": {},
   "outputs": [
    {
     "data": {
      "text/plain": [
       "(28000,)"
      ]
     },
     "execution_count": 61,
     "metadata": {},
     "output_type": "execute_result"
    }
   ],
   "source": [
    "predict.shape"
   ]
  },
  {
   "cell_type": "code",
   "execution_count": 62,
   "metadata": {},
   "outputs": [],
   "source": [
    "df=pd.DataFrame({\"ImageId\":id_num,'Label':predict})"
   ]
  },
  {
   "cell_type": "code",
   "execution_count": 64,
   "metadata": {},
   "outputs": [],
   "source": [
    "df.to_csv('result.csv',index=False)"
   ]
  },
  {
   "cell_type": "code",
   "execution_count": null,
   "metadata": {},
   "outputs": [],
   "source": []
  }
 ],
 "metadata": {
  "kernelspec": {
   "display_name": "Python 3",
   "language": "python",
   "name": "python3"
  },
  "language_info": {
   "codemirror_mode": {
    "name": "ipython",
    "version": 3
   },
   "file_extension": ".py",
   "mimetype": "text/x-python",
   "name": "python",
   "nbconvert_exporter": "python",
   "pygments_lexer": "ipython3",
   "version": "3.7.3"
  }
 },
 "nbformat": 4,
 "nbformat_minor": 2
}
