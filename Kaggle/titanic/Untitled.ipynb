{
 "cells": [
  {
   "cell_type": "code",
   "execution_count": 1,
   "metadata": {},
   "outputs": [],
   "source": [
    "import os\n",
    "import pandas as pd\n",
    "import numpy as np\n",
    "from sklearn.cluster import KMeans\n",
    "import matplotlib.pyplot as plt\n",
    "import tensorflow as tf\n",
    "from skimage.color import rgb2gray\n",
    "from tensorflow.keras.models import Sequential\n",
    "from tensorflow.keras.layers import Dense,LSTM,CuDNNLSTM,MaxPooling2D,Conv2D,Flatten,Dropout\n",
    "from sklearn.model_selection import train_test_split\n",
    "from tensorflow.keras.callbacks import ModelCheckpoint,Callback\n",
    "from sklearn.model_selection import GridSearchCV\n",
    "import xgboost as xgb"
   ]
  },
  {
   "cell_type": "code",
   "execution_count": 2,
   "metadata": {},
   "outputs": [],
   "source": [
    "df=pd.read_csv('train.csv')\n",
    "df_test=pd.read_csv('test.csv')\n",
    "Y=df['Survived']\n",
    "X=df.drop('Survived',1)\n",
    "df_concat=pd.concat([X,df_test],0)"
   ]
  },
  {
   "cell_type": "code",
   "execution_count": 3,
   "metadata": {},
   "outputs": [],
   "source": [
    "def preprocess(df):\n",
    "    df=df.drop(['Ticket','Name','PassengerId'],1)\n",
    "    df['Sex']=df['Sex'].map({'male':1,'female':0})\n",
    "    cabin_list = ['A', 'B', 'C', 'D', 'E', 'F', 'T', 'G', 'Unknown']\n",
    "    df.Cabin=df['Cabin'].astype(str)\n",
    "    df.Cabin=df.Cabin.map(lambda x: substrings_in_string(x,cabin_list))\n",
    "    df.Pclass=df.Pclass.map({1 : '1st', 2 : '2nd', 3 : '3rd'})\n",
    "    dummies=pd.get_dummies(df)\n",
    "    dummies.fillna(dummies.mean(),inplace=True)\n",
    "    return dummies\n",
    "\n",
    "\n",
    "def substrings_in_string(big_string, substrings):\n",
    "    for substring in substrings:\n",
    "        if big_string.find(substring) != -1:\n",
    "            return substring\n",
    "    return np.nan"
   ]
  },
  {
   "cell_type": "code",
   "execution_count": 6,
   "metadata": {},
   "outputs": [],
   "source": [
    "df_dum=preprocess(df_concat)"
   ]
  },
  {
   "cell_type": "code",
   "execution_count": 7,
   "metadata": {},
   "outputs": [],
   "source": [
    "X_dummies=df_dum.iloc[:X.shape[0],:]\n",
    "test=df_dum.iloc[X.shape[0]:,:]"
   ]
  },
  {
   "cell_type": "code",
   "execution_count": 131,
   "metadata": {},
   "outputs": [],
   "source": [
    "y_hot_encoding=tf.keras.utils.to_categorical(Y)"
   ]
  },
  {
   "cell_type": "code",
   "execution_count": 14,
   "metadata": {
    "scrolled": true
   },
   "outputs": [
    {
     "name": "stdout",
     "output_type": "stream",
     "text": [
      "_________________________________________________________________\n",
      "Layer (type)                 Output Shape              Param #   \n",
      "=================================================================\n",
      "dense_5 (Dense)              (None, 256)               5120      \n",
      "_________________________________________________________________\n",
      "dense_6 (Dense)              (None, 128)               32896     \n",
      "_________________________________________________________________\n",
      "dense_7 (Dense)              (None, 64)                8256      \n",
      "_________________________________________________________________\n",
      "dense_8 (Dense)              (None, 32)                2080      \n",
      "_________________________________________________________________\n",
      "dense_9 (Dense)              (None, 2)                 66        \n",
      "=================================================================\n",
      "Total params: 48,418\n",
      "Trainable params: 48,418\n",
      "Non-trainable params: 0\n",
      "_________________________________________________________________\n"
     ]
    }
   ],
   "source": [
    "model=Sequential()\n",
    "model.add(Dense(256,activation='relu',input_dim=X_dummies.shape[1]))\n",
    "model.add(Dense(128,activation='relu'))\n",
    "model.add(Dense(64,activation='relu'))\n",
    "model.add(Dense(32,activation='relu'))\n",
    "model.add(Dense(2,activation='softmax'))\n",
    "model.compile(loss='sparse_categorical_crossentropy',optimizer='adam',metrics=['accuracy'])\n",
    "model.summary()"
   ]
  },
  {
   "cell_type": "code",
   "execution_count": 15,
   "metadata": {},
   "outputs": [
    {
     "data": {
      "text/plain": [
       "array([0, 1], dtype=int64)"
      ]
     },
     "execution_count": 15,
     "metadata": {},
     "output_type": "execute_result"
    }
   ],
   "source": [
    "Y.unique()"
   ]
  },
  {
   "cell_type": "code",
   "execution_count": 16,
   "metadata": {
    "scrolled": true
   },
   "outputs": [
    {
     "name": "stdout",
     "output_type": "stream",
     "text": [
      "Epoch 1/30\n",
      "891/891 [==============================] - 3s 4ms/sample - loss: 0.7089 - acc: 0.6251\n",
      "Epoch 2/30\n",
      "891/891 [==============================] - 3s 3ms/sample - loss: 0.6141 - acc: 0.6779\n",
      "Epoch 3/30\n",
      "891/891 [==============================] - 3s 3ms/sample - loss: 0.5865 - acc: 0.6577\n",
      "Epoch 4/30\n",
      "891/891 [==============================] - 3s 3ms/sample - loss: 0.5571 - acc: 0.7295\n",
      "Epoch 5/30\n",
      "891/891 [==============================] - 3s 3ms/sample - loss: 0.5432 - acc: 0.7632\n",
      "Epoch 6/30\n",
      "891/891 [==============================] - 3s 3ms/sample - loss: 0.5255 - acc: 0.7823\n",
      "Epoch 7/30\n",
      "891/891 [==============================] - 3s 3ms/sample - loss: 0.4829 - acc: 0.7991\n",
      "Epoch 8/30\n",
      "891/891 [==============================] - 3s 3ms/sample - loss: 0.4535 - acc: 0.8103\n",
      "Epoch 9/30\n",
      "891/891 [==============================] - 3s 3ms/sample - loss: 0.4627 - acc: 0.7868\n",
      "Epoch 10/30\n",
      "891/891 [==============================] - 3s 3ms/sample - loss: 0.4674 - acc: 0.8025\n",
      "Epoch 11/30\n",
      "891/891 [==============================] - 3s 3ms/sample - loss: 0.4558 - acc: 0.8013\n",
      "Epoch 12/30\n",
      "891/891 [==============================] - 3s 3ms/sample - loss: 0.4527 - acc: 0.8114\n",
      "Epoch 13/30\n",
      "891/891 [==============================] - 3s 3ms/sample - loss: 0.4327 - acc: 0.8036\n",
      "Epoch 14/30\n",
      "891/891 [==============================] - 3s 3ms/sample - loss: 0.4410 - acc: 0.8193\n",
      "Epoch 15/30\n",
      "891/891 [==============================] - 3s 3ms/sample - loss: 0.4317 - acc: 0.8204\n",
      "Epoch 16/30\n",
      "891/891 [==============================] - 3s 3ms/sample - loss: 0.4482 - acc: 0.8103\n",
      "Epoch 17/30\n",
      "891/891 [==============================] - 3s 3ms/sample - loss: 0.4199 - acc: 0.8103\n",
      "Epoch 18/30\n",
      "891/891 [==============================] - 3s 3ms/sample - loss: 0.4294 - acc: 0.8171\n",
      "Epoch 19/30\n",
      "891/891 [==============================] - 3s 3ms/sample - loss: 0.4174 - acc: 0.8204\n",
      "Epoch 20/30\n",
      "891/891 [==============================] - 3s 3ms/sample - loss: 0.4264 - acc: 0.8159\n",
      "Epoch 21/30\n",
      "891/891 [==============================] - 3s 3ms/sample - loss: 0.4224 - acc: 0.8182\n",
      "Epoch 22/30\n",
      "891/891 [==============================] - 3s 3ms/sample - loss: 0.4186 - acc: 0.8103\n",
      "Epoch 23/30\n",
      "891/891 [==============================] - 3s 3ms/sample - loss: 0.4148 - acc: 0.8272\n",
      "Epoch 24/30\n",
      "891/891 [==============================] - 3s 3ms/sample - loss: 0.4118 - acc: 0.8238\n",
      "Epoch 25/30\n",
      "891/891 [==============================] - 3s 3ms/sample - loss: 0.4119 - acc: 0.8260\n",
      "Epoch 26/30\n",
      "891/891 [==============================] - 3s 3ms/sample - loss: 0.3923 - acc: 0.8227\n",
      "Epoch 27/30\n",
      "891/891 [==============================] - 3s 3ms/sample - loss: 0.3992 - acc: 0.8227\n",
      "Epoch 28/30\n",
      "891/891 [==============================] - 3s 3ms/sample - loss: 0.4172 - acc: 0.8114\n",
      "Epoch 29/30\n",
      "891/891 [==============================] - 3s 3ms/sample - loss: 0.4238 - acc: 0.8227\n",
      "Epoch 30/30\n",
      "891/891 [==============================] - 3s 3ms/sample - loss: 0.4028 - acc: 0.8272\n"
     ]
    },
    {
     "data": {
      "text/plain": [
       "<tensorflow.python.keras.callbacks.History at 0x25bd5541668>"
      ]
     },
     "execution_count": 16,
     "metadata": {},
     "output_type": "execute_result"
    }
   ],
   "source": [
    "model.fit(X_dummies,Y,epochs=30,batch_size=1)"
   ]
  },
  {
   "cell_type": "code",
   "execution_count": 134,
   "metadata": {},
   "outputs": [
    {
     "data": {
      "text/plain": [
       "AdaBoostClassifier(algorithm='SAMME.R', base_estimator=None,\n",
       "          learning_rate=1.0, n_estimators=100, random_state=0)"
      ]
     },
     "execution_count": 134,
     "metadata": {},
     "output_type": "execute_result"
    }
   ],
   "source": [
    "from sklearn.ensemble import AdaBoostClassifier\n",
    "from sklearn.datasets import make_classification\n",
    "\n",
    "clf = AdaBoostClassifier(n_estimators=100, random_state=0)\n",
    "clf.fit(X_dummies, Y)  "
   ]
  },
  {
   "cell_type": "code",
   "execution_count": 135,
   "metadata": {},
   "outputs": [
    {
     "data": {
      "text/plain": [
       "0.8473625140291807"
      ]
     },
     "execution_count": 135,
     "metadata": {},
     "output_type": "execute_result"
    }
   ],
   "source": [
    "clf.score(X_dummies,Y)"
   ]
  },
  {
   "cell_type": "code",
   "execution_count": 167,
   "metadata": {
    "scrolled": true
   },
   "outputs": [
    {
     "data": {
      "text/plain": [
       "GridSearchCV(cv=5, error_score='raise-deprecating',\n",
       "       estimator=RandomForestClassifier(bootstrap=True, class_weight=None, criterion='gini',\n",
       "            max_depth=None, max_features='auto', max_leaf_nodes=None,\n",
       "            min_impurity_decrease=0.0, min_impurity_split=None,\n",
       "            min_samples_leaf=1, min_samples_split=2,\n",
       "            min_weight_fraction_leaf=0.0, n_estimators='warn', n_jobs=None,\n",
       "            oob_score=False, random_state=0, verbose=0, warm_start=False),\n",
       "       fit_params=None, iid='warn', n_jobs=None,\n",
       "       param_grid={'n_estimators': [10, 20, 30, 40, 50, 60, 70, 80, 90, 100, 110, 120, 130, 140, 150, 160, 170, 180, 190, 200], 'max_depth': [10, 20, 30, 40, 50, 60, 70, 80, 90, 100, 110, 120, 130, 140, 150, 160, 170, 180, 190, 200]},\n",
       "       pre_dispatch='2*n_jobs', refit=True, return_train_score='warn',\n",
       "       scoring=None, verbose=0)"
      ]
     },
     "execution_count": 167,
     "metadata": {},
     "output_type": "execute_result"
    }
   ],
   "source": [
    "from sklearn.ensemble import RandomForestClassifier\n",
    "rfc = RandomForestClassifier(random_state=0)\n",
    "parameters = {'n_estimators':np.arange(10,210,10).tolist(), 'max_depth':np.arange(10,210,10).tolist()}\n",
    "clf = GridSearchCV(rfc, parameters, cv=5)\n",
    "clf.fit(X_dummies, Y)"
   ]
  },
  {
   "cell_type": "code",
   "execution_count": 168,
   "metadata": {},
   "outputs": [
    {
     "data": {
      "text/plain": [
       "0.9259259259259259"
      ]
     },
     "execution_count": 168,
     "metadata": {},
     "output_type": "execute_result"
    }
   ],
   "source": [
    "clf.score(X_dummies,Y)"
   ]
  },
  {
   "cell_type": "code",
   "execution_count": null,
   "metadata": {},
   "outputs": [],
   "source": []
  },
  {
   "cell_type": "code",
   "execution_count": 173,
   "metadata": {},
   "outputs": [],
   "source": [
    "predict=clf.predict(test)\n",
    "\n",
    "prediction=pd.read_csv('gender_submission.csv')\n",
    "\n",
    "prediction.Survived=predict\n",
    "\n",
    "prediction.to_csv('prediction.csv',index=False)"
   ]
  },
  {
   "cell_type": "code",
   "execution_count": 181,
   "metadata": {},
   "outputs": [
    {
     "data": {
      "text/plain": [
       "[1e-05,\n",
       " 2.782559402207126e-05,\n",
       " 7.742636826811278e-05,\n",
       " 0.00021544346900318823,\n",
       " 0.0005994842503189409,\n",
       " 0.0016681005372000592,\n",
       " 0.004641588833612777,\n",
       " 0.012915496650148827,\n",
       " 0.03593813663804626,\n",
       " 0.1]"
      ]
     },
     "execution_count": 181,
     "metadata": {},
     "output_type": "execute_result"
    }
   ],
   "source": [
    "np.logspace(-5,-1,num=10).tolist()"
   ]
  },
  {
   "cell_type": "code",
   "execution_count": 185,
   "metadata": {},
   "outputs": [],
   "source": [
    "XGB=xgb.XGBClassifier()\n",
    "parameters = {'n_estimators':np.arange(10,210,50).tolist(), \n",
    "              'max_depth':np.arange(10,210,50).tolist(),\n",
    "              'learning_rate':np.logspace(-5,-1,num=5).tolist()}\n",
    "clf = GridSearchCV(XGB, parameters, cv=5)"
   ]
  },
  {
   "cell_type": "code",
   "execution_count": 186,
   "metadata": {},
   "outputs": [
    {
     "data": {
      "text/plain": [
       "GridSearchCV(cv=5, error_score='raise-deprecating',\n",
       "       estimator=XGBClassifier(base_score=0.5, booster='gbtree', colsample_bylevel=1,\n",
       "       colsample_bytree=1, gamma=0, learning_rate=0.1, max_delta_step=0,\n",
       "       max_depth=3, min_child_weight=1, missing=None, n_estimators=100,\n",
       "       n_jobs=1, nthread=None, objective='binary:logistic', random_state=0,\n",
       "       reg_alpha=0, reg_lambda=1, scale_pos_weight=1, seed=None,\n",
       "       silent=True, subsample=1),\n",
       "       fit_params=None, iid='warn', n_jobs=None,\n",
       "       param_grid={'n_estimators': [10, 60, 110, 160], 'max_depth': [10, 60, 110, 160], 'learning_rate': [1e-05, 0.0001, 0.001, 0.01, 0.1]},\n",
       "       pre_dispatch='2*n_jobs', refit=True, return_train_score='warn',\n",
       "       scoring=None, verbose=0)"
      ]
     },
     "execution_count": 186,
     "metadata": {},
     "output_type": "execute_result"
    }
   ],
   "source": [
    "clf.fit(X_dummies, Y)"
   ]
  },
  {
   "cell_type": "code",
   "execution_count": 187,
   "metadata": {},
   "outputs": [],
   "source": [
    "predict=clf.predict(test)\n",
    "\n",
    "prediction=pd.read_csv('gender_submission.csv')\n",
    "\n",
    "prediction.Survived=predict\n",
    "\n",
    "prediction.to_csv('prediction.csv',index=False)"
   ]
  },
  {
   "cell_type": "code",
   "execution_count": null,
   "metadata": {},
   "outputs": [],
   "source": []
  }
 ],
 "metadata": {
  "kernelspec": {
   "display_name": "Python 3",
   "language": "python",
   "name": "python3"
  },
  "language_info": {
   "codemirror_mode": {
    "name": "ipython",
    "version": 3
   },
   "file_extension": ".py",
   "mimetype": "text/x-python",
   "name": "python",
   "nbconvert_exporter": "python",
   "pygments_lexer": "ipython3",
   "version": "3.7.3"
  }
 },
 "nbformat": 4,
 "nbformat_minor": 2
}
