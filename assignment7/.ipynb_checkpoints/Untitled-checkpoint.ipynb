{
 "cells": [
  {
   "cell_type": "code",
   "execution_count": 42,
   "metadata": {},
   "outputs": [],
   "source": [
    "import os\n",
    "import re"
   ]
  },
  {
   "cell_type": "code",
   "execution_count": 43,
   "metadata": {},
   "outputs": [],
   "source": [
    "# only call once\n",
    "def corpus():\n",
    "    appended_content=\"\"\n",
    "    for i in os.listdir():\n",
    "        if \".txt\" in i:\n",
    "            print(i)\n",
    "            file=open(i,\"r\",encoding=\"utf-8-sig\")\n",
    "            data=file.read().replace(\"\\n\",\"\")\n",
    "            appended_content=appended_content+data\n",
    "            file.close()\n",
    "    return appended_content\n",
    "\n",
    "        "
   ]
  },
  {
   "cell_type": "code",
   "execution_count": 44,
   "metadata": {},
   "outputs": [
    {
     "name": "stdout",
     "output_type": "stream",
     "text": [
      "Mysticism and Logic and Other Essays.txt\n",
      "Our Knowledge of the External World as a Field for Scientific Method in.txt\n",
      "The Analysis of Mind.txt\n",
      "The Problems of Philosophy.txt\n"
     ]
    }
   ],
   "source": [
    "corpus_result=corpus()"
   ]
  },
  {
   "cell_type": "code",
   "execution_count": 45,
   "metadata": {},
   "outputs": [],
   "source": [
    "out=[ord(i) for i in corpus_result]"
   ]
  },
  {
   "cell_type": "code",
   "execution_count": 46,
   "metadata": {
    "scrolled": false
   },
   "outputs": [],
   "source": [
    "import numpy as np\n",
    "out_scaled=list(map(lambda x: x/255,list(filter(lambda x: x<255,out))))\n",
    "out_unscaled=list(filter(lambda x: x<255,out))\n",
    "W=100\n",
    "S=1"
   ]
  },
  {
   "cell_type": "code",
   "execution_count": 47,
   "metadata": {},
   "outputs": [],
   "source": [
    "X=[]\n",
    "Y=[]\n",
    "for i in range(len(out)):\n",
    "    try:\n",
    "        X.append(out_scaled[i:i+W-S])\n",
    "        Y.append(out_unscaled[i+W-S])\n",
    "    except IndexError:\n",
    "        break\n",
    "X=X[:-1]"
   ]
  },
  {
   "cell_type": "code",
   "execution_count": 48,
   "metadata": {},
   "outputs": [],
   "source": [
    "X=np.reshape(X,(-1,99,1))"
   ]
  },
  {
   "cell_type": "code",
   "execution_count": 50,
   "metadata": {},
   "outputs": [],
   "source": [
    "A=np.diag(np.ones(256))\n",
    "\n",
    "Y=np.array([A[i] for i in Y])"
   ]
  },
  {
   "cell_type": "code",
   "execution_count": 67,
   "metadata": {},
   "outputs": [],
   "source": [
    "import tensorflow as tf\n",
    "from tensorflow.keras.models import Sequential\n",
    "from tensorflow.keras.layers import Dense,LSTM,CuDNNLSTM\n",
    "from sklearn.model_selection import train_test_split"
   ]
  },
  {
   "cell_type": "code",
   "execution_count": 54,
   "metadata": {},
   "outputs": [],
   "source": [
    "X_train, X_test, Y_train, Y_test = train_test_split(X, Y, test_size=0.33, random_state=42)"
   ]
  },
  {
   "cell_type": "code",
   "execution_count": 84,
   "metadata": {},
   "outputs": [],
   "source": [
    "model= Sequential()\n",
    "model.add(LSTM(256,input_shape=(99,1),activation='sigmoid'))"
   ]
  },
  {
   "cell_type": "code",
   "execution_count": 85,
   "metadata": {},
   "outputs": [],
   "source": [
    "model.add(Dense(256, activation='softmax'))\n",
    "model.compile(loss='categorical_crossentropy',optimizer='adam',metrics=['accuracy'])"
   ]
  },
  {
   "cell_type": "code",
   "execution_count": 86,
   "metadata": {
    "scrolled": false
   },
   "outputs": [
    {
     "name": "stdout",
     "output_type": "stream",
     "text": [
      "Train on 1061283 samples, validate on 522722 samples\n",
      "Epoch 1/10\n",
      "1061283/1061283 [==============================] - 308s 291us/sample - loss: 3.0456 - acc: 0.1613 - val_loss: 2.9817 - val_acc: 0.1683\n",
      "Epoch 2/10\n",
      "1061283/1061283 [==============================] - 304s 286us/sample - loss: 2.9085 - acc: 0.1914 - val_loss: 2.8745 - val_acc: 0.1921\n",
      "Epoch 3/10\n",
      "1061283/1061283 [==============================] - 319s 301us/sample - loss: 2.8512 - acc: 0.1992 - val_loss: 2.8394 - val_acc: 0.1974\n",
      "Epoch 4/10\n",
      "1061283/1061283 [==============================] - 321s 303us/sample - loss: 2.8211 - acc: 0.2025 - val_loss: 2.8118 - val_acc: 0.2024\n",
      "Epoch 5/10\n",
      "1061283/1061283 [==============================] - 320s 302us/sample - loss: 2.8009 - acc: 0.2051 - val_loss: 2.7961 - val_acc: 0.2056\n",
      "Epoch 6/10\n",
      "1061283/1061283 [==============================] - 320s 302us/sample - loss: 2.7836 - acc: 0.2077 - val_loss: 2.7787 - val_acc: 0.2067\n",
      "Epoch 7/10\n",
      "1061283/1061283 [==============================] - 315s 297us/sample - loss: 2.7671 - acc: 0.2106 - val_loss: 2.7651 - val_acc: 0.2091\n",
      "Epoch 8/10\n",
      "1061283/1061283 [==============================] - 317s 299us/sample - loss: 2.7523 - acc: 0.2137 - val_loss: 2.7506 - val_acc: 0.2142\n",
      "Epoch 9/10\n",
      "1061283/1061283 [==============================] - 321s 302us/sample - loss: 2.7373 - acc: 0.2165 - val_loss: 2.7374 - val_acc: 0.2166\n",
      "Epoch 10/10\n",
      "1061283/1061283 [==============================] - 319s 301us/sample - loss: 2.7244 - acc: 0.2199 - val_loss: 2.7255 - val_acc: 0.2241\n"
     ]
    },
    {
     "data": {
      "text/plain": [
       "<tensorflow.python.keras.callbacks.History at 0x1f838f42588>"
      ]
     },
     "execution_count": 86,
     "metadata": {},
     "output_type": "execute_result"
    }
   ],
   "source": [
    "model.fit(X_train,Y_train,epochs=10,batch_size=1000,validation_data=(X_test,Y_test))"
   ]
  },
  {
   "cell_type": "code",
   "execution_count": 53,
   "metadata": {},
   "outputs": [
    {
     "data": {
      "text/plain": [
       "(100, 256)"
      ]
     },
     "execution_count": 53,
     "metadata": {},
     "output_type": "execute_result"
    }
   ],
   "source": [
    "Y_train[:100].shape"
   ]
  },
  {
   "cell_type": "code",
   "execution_count": 34,
   "metadata": {},
   "outputs": [
    {
     "data": {
      "text/plain": [
       "(1061283, 99, 1)"
      ]
     },
     "execution_count": 34,
     "metadata": {},
     "output_type": "execute_result"
    }
   ],
   "source": [
    "X_train.shape"
   ]
  },
  {
   "cell_type": "code",
   "execution_count": 15,
   "metadata": {},
   "outputs": [],
   "source": [
    "mnist=tf.keras.datasets.mnist"
   ]
  },
  {
   "cell_type": "code",
   "execution_count": 16,
   "metadata": {},
   "outputs": [],
   "source": [
    "(x_train,y_train),(x_test,y_test)=mnist.load_data()"
   ]
  },
  {
   "cell_type": "code",
   "execution_count": null,
   "metadata": {},
   "outputs": [],
   "source": [
    "x_train=tf.keras.utils.normalize(x_train,axis=1)\n",
    "model=Sequential()\n",
    "model.add(tf.keras.layers.Flatten())\n",
    "model.add(Dense(128,activation=tf.nn.relu))\n",
    "model.add(Dense(128,activation=tf.nn.relu))\n",
    "model.add(Dense(10,activation=tf.nn.softmax))\n",
    "model.compile(loss=\"sparse_categorical_crossentropy\",optimizer='adam',\n",
    "             metrics=['accuracy'])\n",
    "model.fit(x_,y_train,epochs=3)\n"
   ]
  },
  {
   "cell_type": "code",
   "execution_count": 21,
   "metadata": {},
   "outputs": [
    {
     "name": "stdout",
     "output_type": "stream",
     "text": [
      "[[22. 28.]\n",
      " [49. 64.]]\n"
     ]
    }
   ],
   "source": [
    "\n",
    "# 新建一个 graph.\n",
    "a = tf.constant([1.0, 2.0, 3.0, 4.0, 5.0, 6.0], shape=[2, 3], name='a')\n",
    "b = tf.constant([1.0, 2.0, 3.0, 4.0, 5.0, 6.0], shape=[3, 2], name='b')\n",
    "c = tf.matmul(a, b)\n",
    "# 新建session with log_device_placement并设置为True.\n",
    "sess = tf.Session(config=tf.ConfigProto(log_device_placement=True))\n",
    "# 运行这个 op.\n",
    "print (sess.run(c))\n",
    "#任务完成 关闭会话\n",
    "sess.close()\n"
   ]
  },
  {
   "cell_type": "code",
   "execution_count": null,
   "metadata": {},
   "outputs": [],
   "source": []
  }
 ],
 "metadata": {
  "kernelspec": {
   "display_name": "Python 3",
   "language": "python",
   "name": "python3"
  },
  "language_info": {
   "codemirror_mode": {
    "name": "ipython",
    "version": 3
   },
   "file_extension": ".py",
   "mimetype": "text/x-python",
   "name": "python",
   "nbconvert_exporter": "python",
   "pygments_lexer": "ipython3",
   "version": "3.6.8"
  }
 },
 "nbformat": 4,
 "nbformat_minor": 2
}
